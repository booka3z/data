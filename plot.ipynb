import matplotlib.pyplot as plt
import pandas as pd

# Read in the data from the URL
df = pd.read_csv("https://raw.githubusercontent.com/littletitans/data/main/data_3.csv")

# Create a line chart
plt.plot(df['x'], df['y'])

# Show the plot
plt.show()
